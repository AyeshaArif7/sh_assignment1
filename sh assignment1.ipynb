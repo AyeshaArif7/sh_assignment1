{
 "cells": [
  {
   "cell_type": "code",
   "execution_count": 4,
   "metadata": {},
   "outputs": [
    {
     "name": "stdout",
     "output_type": "stream",
     "text": [
      "Twinkle, twinkle, little star, \n",
      " \tHow I wonder what you are! \n",
      " \t \tUp above the world so high, \n",
      " \t \tLike a diamond in the sky. \n",
      " Twinkle, twinkle, little star, \n",
      " \tHow I wonder what you are\n"
     ]
    }
   ],
   "source": [
    "print (\"Twinkle, twinkle, little star,\",\"\\n\",\"\\t\" \"How I wonder what you are!\",\"\\n\",\"\\t\",\"\\t\" \"Up above the world so high,\",\"\\n\",\"\\t\",\"\\t\" \"Like a diamond in the sky.\",\"\\n\",\"Twinkle, twinkle, little star,\",\"\\n\",\"\\t\" \"How I wonder what you are\")\n",
    "       "
   ]
  },
  {
   "cell_type": "code",
   "execution_count": 1,
   "metadata": {},
   "outputs": [
    {
     "name": "stdout",
     "output_type": "stream",
     "text": [
      "3.7.4\n"
     ]
    }
   ],
   "source": [
    "from platform import python_version\n",
    "print (python_version())"
   ]
  },
  {
   "cell_type": "code",
   "execution_count": 10,
   "metadata": {},
   "outputs": [
    {
     "name": "stdout",
     "output_type": "stream",
     "text": [
      "DATE: 2-nov-2019 TIME: 1:59 PM\n"
     ]
    }
   ],
   "source": [
    "Date=(\"DATE: 2-nov-2019\")\n",
    "Time=(\"TIME: 1:59 PM\")\n",
    "print (Date,Time)"
   ]
  },
  {
   "cell_type": "code",
   "execution_count": 14,
   "metadata": {},
   "outputs": [
    {
     "name": "stdout",
     "output_type": "stream",
     "text": [
      "Enter the radius:2\n",
      "12.56\n"
     ]
    }
   ],
   "source": [
    "r= int(input(\"Enter the radius:\"))\n",
    "Area=3.14*r**2\n",
    "print (Area)"
   ]
  },
  {
   "cell_type": "code",
   "execution_count": null,
   "metadata": {},
   "outputs": [],
   "source": []
  },
  {
   "cell_type": "code",
   "execution_count": 19,
   "metadata": {},
   "outputs": [
    {
     "name": "stdout",
     "output_type": "stream",
     "text": [
      "First Name:sad\n",
      "Last Name:rao\n",
      "oar das\n",
      "rao sad\n"
     ]
    }
   ],
   "source": [
    "F=input(\"First Name:\")\n",
    "L=input(\"Last Name:\")\n",
    "print (L[::-1], F[::-1])\n",
    "print (L, F)"
   ]
  },
  {
   "cell_type": "code",
   "execution_count": 21,
   "metadata": {},
   "outputs": [
    {
     "name": "stdout",
     "output_type": "stream",
     "text": [
      "kuch likho hi\n",
      "dobara larki\n",
      "hilarki\n"
     ]
    }
   ],
   "source": [
    "a=input(\"kuch likho \")\n",
    "b=input(\"dobara \")\n",
    "print (a+b)"
   ]
  },
  {
   "cell_type": "code",
   "execution_count": null,
   "metadata": {},
   "outputs": [],
   "source": []
  }
 ],
 "metadata": {
  "kernelspec": {
   "display_name": "Python 3",
   "language": "python",
   "name": "python3"
  },
  "language_info": {
   "codemirror_mode": {
    "name": "ipython",
    "version": 3
   },
   "file_extension": ".py",
   "mimetype": "text/x-python",
   "name": "python",
   "nbconvert_exporter": "python",
   "pygments_lexer": "ipython3",
   "version": "3.7.4"
  }
 },
 "nbformat": 4,
 "nbformat_minor": 2
}
