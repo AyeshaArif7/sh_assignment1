{
 "cells": [
  {
   "cell_type": "code",
   "execution_count": 2,
   "metadata": {},
   "outputs": [
    {
     "name": "stdout",
     "output_type": "stream",
     "text": [
      "Enter a num: 5\n",
      "You got it buddy\n",
      "CONGRATS!, YOU WON\n"
     ]
    }
   ],
   "source": [
    "from random import randrange\n",
    "banda=randrange(1,30)\n",
    "for j in range(0,3):\n",
    "    bandi=int(input(\"Enter a num: \"))\n",
    "    if bandi<banda:\n",
    "        print(\"guess a larger num\")\n",
    "    elif bandi>banda:\n",
    "        print(\"guess a smaller num\")\n",
    "    else:\n",
    "        print(\"You got it buddy\")\n",
    "        break\n",
    "if bandi<banda or bandi>banda:\n",
    "    print(\"YOU LOST\")\n",
    "else:\n",
    "    print(\"CONGRATS!, YOU WON\")"
   ]
  },
  {
   "cell_type": "code",
   "execution_count": 3,
   "metadata": {},
   "outputs": [
    {
     "name": "stdout",
     "output_type": "stream",
     "text": [
      "Enter book name: falan\n",
      "One of my favourite book is  falan\n"
     ]
    }
   ],
   "source": [
    "def favorite_book(title):\n",
    "    print(\"One of my favourite book is \",title)\n",
    "book=input(\"Enter book name: \")\n",
    "favorite_book(book)"
   ]
  },
  {
   "cell_type": "code",
   "execution_count": 4,
   "metadata": {},
   "outputs": [
    {
     "name": "stdout",
     "output_type": "stream",
     "text": [
      "Enter total viewers:3\n",
      "age: 1\n",
      "no fee\n",
      "age: 8\n",
      "pay $10\n",
      "age: 50\n",
      "pay $15\n"
     ]
    }
   ],
   "source": [
    "PPL=int(input(\"Enter total viewers:\"))\n",
    "for i in range(0,PPL):\n",
    "    age=int(input(\"age: \"))\n",
    "    if age<3:\n",
    "        print(\"no fee\")\n",
    "    elif age>=3 and age<=12:\n",
    "        print(\"pay $10\")\n",
    "    else:\n",
    "        print(\"pay $15\")"
   ]
  },
  {
   "cell_type": "code",
   "execution_count": 7,
   "metadata": {},
   "outputs": [
    {
     "name": "stdout",
     "output_type": "stream",
     "text": [
      "Karachi {'country': 'Pakistan', 'population': '14.91 million', 'fact': 'Be-mesal Biryani'}\n",
      "Lahore {'country': 'Pakistan', 'population': '11.13 million', 'fact': 'jinney lohr ni wekhya unney kuch ni wekhya'}\n",
      "Islamabad {'country': 'Pakistan', 'population': '1.015 million', 'fact': 'Burger'}\n"
     ]
    }
   ],
   "source": [
    "cities={\"Karachi\":{\"country\":\"Pakistan\",\"population\":\"14.91 million\",\"fact\":\"Be-mesal Biryani\"},\"Lahore\":{\"country\":\"Pakistan\",\"population\":\"11.13 million\",\"fact\":\"jinney lohr ni wekhya unney kuch ni wekhya\"} ,\"Islamabad\":{\"country\":\"Pakistan\",\"population\":\"1.015 million\",\"fact\":\"Burger\"}}\n",
    "for i in cities:\n",
    "    print(i,cities[i])\n",
    "    "
   ]
  },
  {
   "cell_type": "code",
   "execution_count": 6,
   "metadata": {},
   "outputs": [
    {
     "name": "stdout",
     "output_type": "stream",
     "text": [
      "('first_name', 'Shemail')\n",
      "('last_name', 'Arif')\n",
      "('age', 24)\n",
      "('city', 'Karachi.')\n",
      "{'first_name': 'Shemail', 'last_name': 'Arif', 'age': 24, 'city': 'Karachi.', 'qualification': 'high academic level'}\n",
      "{'first_name': 'Shemail', 'last_name': 'Arif', 'age': 24, 'city': 'Karachi.'}\n"
     ]
    }
   ],
   "source": [
    "info={\"first_name\":\"Shemail\", \"last_name\":\"Arif\", \"age\":24,\"city\":\"Karachi.\"}\n",
    "for j in info.items():\n",
    "    print(j) \n",
    "info[\"qualification\"]=\"high academic level\"\n",
    "print(info)\n",
    "del(info[\"qualification\"])\n",
    "print(info)"
   ]
  },
  {
   "cell_type": "code",
   "execution_count": null,
   "metadata": {},
   "outputs": [],
   "source": []
  }
 ],
 "metadata": {
  "kernelspec": {
   "display_name": "Python 3",
   "language": "python",
   "name": "python3"
  },
  "language_info": {
   "codemirror_mode": {
    "name": "ipython",
    "version": 3
   },
   "file_extension": ".py",
   "mimetype": "text/x-python",
   "name": "python",
   "nbconvert_exporter": "python",
   "pygments_lexer": "ipython3",
   "version": "3.7.4"
  }
 },
 "nbformat": 4,
 "nbformat_minor": 2
}
