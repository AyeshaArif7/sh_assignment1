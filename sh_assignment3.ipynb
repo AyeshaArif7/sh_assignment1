{
 "cells": [
  {
   "cell_type": "code",
   "execution_count": 1,
   "metadata": {},
   "outputs": [
    {
     "name": "stdout",
     "output_type": "stream",
     "text": [
      "Enter first integer: 2\n",
      "Enter second integer: 3\n",
      "Enter the operation: **\n",
      "8 Answer\n"
     ]
    }
   ],
   "source": [
    "x=int(input(\"Enter first integer: \"))\n",
    "y=int(input(\"Enter second integer: \"))\n",
    "ope=input(\"Enter the operation: \")\n",
    "if ope == '+':\n",
    "    print(x+y,\"Answer\")\n",
    "elif ope == '-':\n",
    "    print(x-y,\"Answer\")\n",
    "elif ope == '*':\n",
    "    print(x*y,\"Answer\")\n",
    "elif ope == '/':\n",
    "    print(x/y,\"Answer\")\n",
    "elif ope == \"**\":\n",
    "    print(x**y,\"Answer\")\n",
    "else:\n",
    "    print(\"Invalid operation.\")"
   ]
  },
  {
   "cell_type": "code",
   "execution_count": 2,
   "metadata": {},
   "outputs": [
    {
     "name": "stdout",
     "output_type": "stream",
     "text": [
      "The list has numeric value\n"
     ]
    }
   ],
   "source": [
    "x=['s','t',8,2.4,3,'a',1.1]\n",
    "y=[]\n",
    "for i in range(0,5):\n",
    "    if isinstance(x[i],int) or isinstance(x[i],float):\n",
    "        y.append(x[i])\n",
    "        print(\"The list has numeric value\")\n",
    "        break\n",
    "if len(y)==0:\n",
    "    print(\"The list doesnot has any numeric values\")"
   ]
  },
  {
   "cell_type": "code",
   "execution_count": 3,
   "metadata": {},
   "outputs": [
    {
     "name": "stdout",
     "output_type": "stream",
     "text": [
      "Enter a key: she\n",
      "Enter a value: 24\n",
      "{'she': 24}\n"
     ]
    }
   ],
   "source": [
    "dic1={}\n",
    "val1=input(\"Enter a key: \")\n",
    "val2=input(\"Enter a value: \")\n",
    "if val1.isnumeric():\n",
    "    if val2.isnumeric():\n",
    "        dic1[int(val1)]= int(val2)\n",
    "        print(dic1)\n",
    "    else:\n",
    "        dic1[int(val1)]= val2\n",
    "        print(dic1)\n",
    "elif val2.isnumeric():\n",
    "    if val1.isnumeric():\n",
    "        dic1[int(val1)]= int(val2)\n",
    "        print(dic1)\n",
    "    else:\n",
    "        dic1[val1]= int(val2)\n",
    "        print(dic1)\n",
    "\n",
    "else:\n",
    "    dic1[val1]= val2\n",
    "    print(dic1)"
   ]
  },
  {
   "cell_type": "code",
   "execution_count": 4,
   "metadata": {},
   "outputs": [
    {
     "name": "stdout",
     "output_type": "stream",
     "text": [
      "By adding all the numeric values of dictionary we get: 39\n"
     ]
    }
   ],
   "source": [
    "dic1={'name':\"Shemail\",'Age':24,'Gender':'f','Class':15}\n",
    "addition=0\n",
    "for val in dic1.values():\n",
    "    if isinstance(val,int) or isinstance(val,float):\n",
    "        addition+=val\n",
    "print(\"By adding all the numeric values of dictionary we get:\",addition)"
   ]
  },
  {
   "cell_type": "code",
   "execution_count": 6,
   "metadata": {},
   "outputs": [
    {
     "name": "stdout",
     "output_type": "stream",
     "text": [
      "Items that duplicates in my lists are: [2, 1, 9]\n"
     ]
    }
   ],
   "source": [
    "import collections\n",
    "num_list=[2,1,9,1,6,2,7,8,9,3]\n",
    "print(\"Items that duplicates in my lists are:\",[item for item, count in collections.Counter(num_list).items() if count > 1])"
   ]
  },
  {
   "cell_type": "code",
   "execution_count": 8,
   "metadata": {},
   "outputs": [
    {
     "name": "stdout",
     "output_type": "stream",
     "text": [
      "Enter name of student: Dua\n",
      "This student is in position holders.\n"
     ]
    }
   ],
   "source": [
    "position={\"Ahad\":1,\"Aslam\":2,\"Dua\":3,\"Muzammil\":4,\"Kareem\":5}\n",
    "check=input(\"Enter name of student: \")\n",
    "for find in rank.keys():\n",
    "    if find ==check:\n",
    "        print(\"This student is in position holders.\" )\n",
    "if check not in rank.keys():\n",
    "    print(\"This student is not in position holders.\" )"
   ]
  },
  {
   "cell_type": "code",
   "execution_count": null,
   "metadata": {},
   "outputs": [],
   "source": []
  }
 ],
 "metadata": {
  "kernelspec": {
   "display_name": "Python 3",
   "language": "python",
   "name": "python3"
  },
  "language_info": {
   "codemirror_mode": {
    "name": "ipython",
    "version": 3
   },
   "file_extension": ".py",
   "mimetype": "text/x-python",
   "name": "python",
   "nbconvert_exporter": "python",
   "pygments_lexer": "ipython3",
   "version": "3.7.4"
  }
 },
 "nbformat": 4,
 "nbformat_minor": 2
}
