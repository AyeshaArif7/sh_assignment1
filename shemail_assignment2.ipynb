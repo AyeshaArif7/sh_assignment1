{
 "cells": [
  {
   "cell_type": "code",
   "execution_count": 2,
   "metadata": {},
   "outputs": [
    {
     "name": "stdout",
     "output_type": "stream",
     "text": [
      "Enter your marks DLD: 5\n",
      "Enter your marks DSA: 67\n",
      "Enter your marks AIC: 46\n",
      "Enter your marks EDC: 98\n",
      "Enter your marks CS: 33\n",
      "D grade\n"
     ]
    }
   ],
   "source": [
    "DLD=int(input(\"Enter your marks DLD: \"))\n",
    "DSA=int(input(\"Enter your marks DSA: \"))\n",
    "AIC=int(input(\"Enter your marks AIC: \"))\n",
    "EDC=int(input(\"Enter your marks EDC: \"))\n",
    "CS=int(input(\"Enter your marks CS: \"))\n",
    "total= DSA+DLD+AIC+EDC+CS\n",
    "percent=(total/500.0)*100.0\n",
    "if percent >= 80.0:\n",
    "    print(\"A+ grade.\")\n",
    "elif percent >= 70.0 and  percent < 80:\n",
    "    print(\"A grade.\")\n",
    "elif percent >=60.0 and  percent < 70:\n",
    "    print(\"B grade.\")\n",
    "elif percent >= 50.0 and  percent < 60:\n",
    "    print(\"C grade.\")\n",
    "elif percent >= 40.0 and  percent < 50:\n",
    "    print(\"D grade\")\n",
    "elif percent >= 33.0 and  percent < 40:\n",
    "    print(\"E grade.\")\n",
    "else:\n",
    "    print(\"you have been selected to study the session again\")\n"
   ]
  },
  {
   "cell_type": "code",
   "execution_count": 5,
   "metadata": {},
   "outputs": [
    {
     "name": "stdout",
     "output_type": "stream",
     "text": [
      "Enter an int:2\n",
      "Int is 2 an even number\n"
     ]
    }
   ],
   "source": [
    "kuch=int(input(\"Enter an int:\"))\n",
    "if kuch%2 == 0:\n",
    "    print(\"Int is\",kuch,\"an even number\")\n",
    "else:\n",
    "    print(\"Int is\",kuch,\" ,an odd number\")\n"
   ]
  },
  {
   "cell_type": "code",
   "execution_count": 9,
   "metadata": {},
   "outputs": [
    {
     "name": "stdout",
     "output_type": "stream",
     "text": [
      "The length of given list is 10\n"
     ]
    }
   ],
   "source": [
    "s=[1,3,5,7,9,11,13,15,17,19]\n",
    "print(\"The length of given list is\",len(s))\n"
   ]
  },
  {
   "cell_type": "code",
   "execution_count": 10,
   "metadata": {},
   "outputs": [
    {
     "name": "stdout",
     "output_type": "stream",
     "text": [
      "sum is 55\n"
     ]
    }
   ],
   "source": [
    "s=[0,1,2,3,4,5,6,7,8,9,10]\n",
    "x=0\n",
    "for i in s:\n",
    "    x += i\n",
    "print(\"sum is\",x)\n"
   ]
  },
  {
   "cell_type": "code",
   "execution_count": 11,
   "metadata": {},
   "outputs": [
    {
     "name": "stdout",
     "output_type": "stream",
     "text": [
      "largest number is 8\n"
     ]
    }
   ],
   "source": [
    "h=[2,4,6,8]\n",
    "y=max(h)\n",
    "print(\"largest number is\",y)\n"
   ]
  },
  {
   "cell_type": "code",
   "execution_count": 12,
   "metadata": {},
   "outputs": [
    {
     "name": "stdout",
     "output_type": "stream",
     "text": [
      "1  1  2  3  "
     ]
    }
   ],
   "source": [
    "a=[1,1,2,3,5,8,13,21,34,55,89]\n",
    "for i in range(0,4):\n",
    "    if a[i]<5:\n",
    "        print(a[i], \" \" ,end='')\n"
   ]
  },
  {
   "cell_type": "code",
   "execution_count": null,
   "metadata": {},
   "outputs": [],
   "source": []
  }
 ],
 "metadata": {
  "kernelspec": {
   "display_name": "Python 3",
   "language": "python",
   "name": "python3"
  },
  "language_info": {
   "codemirror_mode": {
    "name": "ipython",
    "version": 3
   },
   "file_extension": ".py",
   "mimetype": "text/x-python",
   "name": "python",
   "nbconvert_exporter": "python",
   "pygments_lexer": "ipython3",
   "version": "3.7.4"
  }
 },
 "nbformat": 4,
 "nbformat_minor": 2
}
